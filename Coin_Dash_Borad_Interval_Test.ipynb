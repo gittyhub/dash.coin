{
 "cells": [
  {
   "cell_type": "code",
   "execution_count": null,
   "metadata": {},
   "outputs": [
    {
     "name": "stdout",
     "output_type": "stream",
     "text": [
      "Dash is running on http://127.0.0.1:8050/\n",
      "\n",
      " * Serving Flask app '__main__' (lazy loading)\n",
      " * Environment: production\n",
      "\u001b[31m   WARNING: This is a development server. Do not use it in a production deployment.\u001b[0m\n",
      "\u001b[2m   Use a production WSGI server instead.\u001b[0m\n",
      " * Debug mode: off\n"
     ]
    },
    {
     "name": "stderr",
     "output_type": "stream",
     "text": [
      "<ipython-input-1-bc4955957b68>:5: UserWarning: \n",
      "The dash_core_components package is deprecated. Please replace\n",
      "`import dash_core_components as dcc` with `from dash import dcc`\n",
      "  import dash_core_components as dcc\n",
      "<ipython-input-1-bc4955957b68>:6: UserWarning: \n",
      "The dash_html_components package is deprecated. Please replace\n",
      "`import dash_html_components as html` with `from dash import html`\n",
      "  import dash_html_components as html\n",
      " * Running on http://127.0.0.1:8050/ (Press CTRL+C to quit)\n",
      "127.0.0.1 - - [15/Jan/2022 10:23:44] \"GET / HTTP/1.1\" 200 -\n",
      "127.0.0.1 - - [15/Jan/2022 10:23:45] \"GET /_dash-layout HTTP/1.1\" 200 -\n",
      "127.0.0.1 - - [15/Jan/2022 10:23:45] \"GET /_dash-dependencies HTTP/1.1\" 200 -\n",
      "127.0.0.1 - - [15/Jan/2022 10:23:45] \"GET /_dash-component-suites/dash/dcc/async-plotlyjs.js HTTP/1.1\" 304 -\n",
      "127.0.0.1 - - [15/Jan/2022 10:23:45] \"GET /_dash-component-suites/dash/dcc/async-graph.js HTTP/1.1\" 304 -\n",
      "127.0.0.1 - - [15/Jan/2022 10:23:45] \"POST /_dash-update-component HTTP/1.1\" 204 -\n",
      "127.0.0.1 - - [15/Jan/2022 10:23:45] \"POST /_dash-update-component HTTP/1.1\" 204 -\n",
      "127.0.0.1 - - [15/Jan/2022 10:23:48] \"POST /_dash-update-component HTTP/1.1\" 200 -\n",
      "127.0.0.1 - - [15/Jan/2022 10:23:51] \"POST /_dash-update-component HTTP/1.1\" 200 -\n",
      "127.0.0.1 - - [15/Jan/2022 10:23:54] \"POST /_dash-update-component HTTP/1.1\" 200 -\n",
      "127.0.0.1 - - [15/Jan/2022 10:23:57] \"POST /_dash-update-component HTTP/1.1\" 200 -\n"
     ]
    }
   ],
   "source": [
    "import plotly          \n",
    "import plotly.graph_objects as go\n",
    "\n",
    "import dash             \n",
    "import dash_core_components as dcc\n",
    "import dash_html_components as html\n",
    "from dash.dependencies import Input, Output\n",
    "from dash.exceptions import PreventUpdate\n",
    "\n",
    "app = dash.Dash(__name__)\n",
    "\n",
    "#------------------------------------------------------------------------\n",
    "app.layout = html.Div([\n",
    "    dcc.Interval(\n",
    "                id='my_interval',\n",
    "                disabled=False,     #if True, the counter will no longer update\n",
    "                interval=1*3000,    #increment the counter n_intervals every interval milliseconds\n",
    "                n_intervals=0,      #number of times the interval has passed\n",
    "                max_intervals=4,    #number of times the interval will be fired.\n",
    "                                    #if -1, then the interval has no limit (the default)\n",
    "                                    #and if 0 then the interval stops running.\n",
    "    ),\n",
    "\n",
    "    html.Div(id='output_data', style={'font-size':36}),\n",
    "    dcc.Input(id=\"input_text\",type='text'),\n",
    "    dcc.Graph(id=\"mybarchart\"),\n",
    "\n",
    "])\n",
    "\n",
    "#------------------------------------------------------------------------\n",
    "@app.callback(\n",
    "    [Output('output_data', 'children'),\n",
    "     Output('mybarchart', 'figure')],\n",
    "    [Input('my_interval', 'n_intervals')]\n",
    ")\n",
    "def update_graph(num):\n",
    "    \"\"\"update every 3 seconds\"\"\"\n",
    "    if num==0:\n",
    "        raise PreventUpdate\n",
    "    else:\n",
    "        y_data=num\n",
    "        fig=go.Figure(data=[go.Bar(x=[1, 2, 3, 4, 5, 6, 7, 8, 9], y=[y_data]*9)],\n",
    "                      layout=go.Layout(yaxis=dict(tickfont=dict(size=22)))\n",
    "        )\n",
    "\n",
    "    return (y_data,fig)\n",
    "\n",
    "#------------------------------------------------------------------------\n",
    "@app.callback(\n",
    "    Output('my_interval', 'max_intervals'),\n",
    "    [Input('input_text', 'value')]\n",
    ")\n",
    "def stop_interval(retrieved_text):\n",
    "    if retrieved_text == 'stop':\n",
    "        max_intervals = 0\n",
    "    else:\n",
    "        raise PreventUpdate\n",
    "\n",
    "    return (max_intervals)\n",
    "#------------------------------------------------------------------------\n",
    "\n",
    "if __name__ == '__main__':\n",
    "    app.run_server()"
   ]
  },
  {
   "cell_type": "code",
   "execution_count": null,
   "metadata": {},
   "outputs": [],
   "source": []
  }
 ],
 "metadata": {
  "kernelspec": {
   "display_name": "Python 3",
   "language": "python",
   "name": "python3"
  },
  "language_info": {
   "codemirror_mode": {
    "name": "ipython",
    "version": 3
   },
   "file_extension": ".py",
   "mimetype": "text/x-python",
   "name": "python",
   "nbconvert_exporter": "python",
   "pygments_lexer": "ipython3",
   "version": "3.8.10"
  }
 },
 "nbformat": 4,
 "nbformat_minor": 4
}
